{
 "cells": [
  {
   "cell_type": "markdown",
   "id": "2d7f509b",
   "metadata": {
    "id": "ouZF_oN8SAS-",
    "papermill": {
     "duration": 0.015994,
     "end_time": "2024-05-04T08:06:15.935429",
     "exception": false,
     "start_time": "2024-05-04T08:06:15.919435",
     "status": "completed"
    },
    "tags": []
   },
   "source": [
    "<h1>Case Study: Flowers CNN Classifier</h1>\n",
    "Flowers dataset (https://www.kaggle.com/alxmamaev/flowers-recognition) "
   ]
  },
  {
   "cell_type": "markdown",
   "id": "cfc116ad",
   "metadata": {
    "id": "93cfwi25SlSF",
    "papermill": {
     "duration": 0.014188,
     "end_time": "2024-05-04T08:06:15.964318",
     "exception": false,
     "start_time": "2024-05-04T08:06:15.950130",
     "status": "completed"
    },
    "tags": []
   },
   "source": [
    "**Set the appropriate path for the datsaet zip provided**"
   ]
  },
  {
   "cell_type": "code",
   "execution_count": 2,
   "id": "ec915324",
   "metadata": {
    "execution": {
     "iopub.execute_input": "2024-05-04T08:06:15.994575Z",
     "iopub.status.busy": "2024-05-04T08:06:15.994162Z",
     "iopub.status.idle": "2024-05-04T08:06:17.015947Z",
     "shell.execute_reply": "2024-05-04T08:06:17.014739Z"
    },
    "papermill": {
     "duration": 1.040257,
     "end_time": "2024-05-04T08:06:17.018952",
     "exception": false,
     "start_time": "2024-05-04T08:06:15.978695",
     "status": "completed"
    },
    "tags": []
   },
   "outputs": [
    {
     "data": {
      "text/plain": [
       "'/Users/premkishanmishra/Official/CV/W1 mentor'"
      ]
     },
     "execution_count": 2,
     "metadata": {},
     "output_type": "execute_result"
    }
   ],
   "source": [
    "pwd"
   ]
  },
  {
   "cell_type": "code",
   "execution_count": 9,
   "id": "21e2231e",
   "metadata": {
    "execution": {
     "iopub.execute_input": "2024-05-04T08:06:17.052965Z",
     "iopub.status.busy": "2024-05-04T08:06:17.052497Z",
     "iopub.status.idle": "2024-05-04T08:06:18.060120Z",
     "shell.execute_reply": "2024-05-04T08:06:18.058885Z"
    },
    "papermill": {
     "duration": 1.027984,
     "end_time": "2024-05-04T08:06:18.062921",
     "exception": false,
     "start_time": "2024-05-04T08:06:17.034937",
     "status": "completed"
    },
    "tags": []
   },
   "outputs": [
    {
     "name": "stdout",
     "output_type": "stream",
     "text": [
      "CV_WEEK_1.pptx                    Untitled.txt\n",
      "CV_Week1_Case+Study.ipynb         \u001b[34mflowers\u001b[m\u001b[m/\n",
      "Copy of flowers.zip               mentor-cv-week1-case-study.ipynb\n"
     ]
    }
   ],
   "source": [
    "ls\n"
   ]
  },
  {
   "cell_type": "code",
   "execution_count": 8,
   "id": "81c7fe0a",
   "metadata": {},
   "outputs": [
    {
     "ename": "SyntaxError",
     "evalue": "invalid syntax (3595676975.py, line 1)",
     "output_type": "error",
     "traceback": [
      "\u001b[0;36m  Cell \u001b[0;32mIn[8], line 1\u001b[0;36m\u001b[0m\n\u001b[0;31m    unzip \"Copy of flowers.zip\"\u001b[0m\n\u001b[0m          ^\u001b[0m\n\u001b[0;31mSyntaxError\u001b[0m\u001b[0;31m:\u001b[0m invalid syntax\n"
     ]
    }
   ],
   "source": [
    "#unzip \"Copy of flowers.zip\"\n",
    "\n",
    "\n"
   ]
  },
  {
   "cell_type": "code",
   "execution_count": 3,
   "id": "2abc4d0b",
   "metadata": {
    "execution": {
     "iopub.execute_input": "2024-05-04T08:06:18.092718Z",
     "iopub.status.busy": "2024-05-04T08:06:18.091983Z",
     "iopub.status.idle": "2024-05-04T08:06:19.093624Z",
     "shell.execute_reply": "2024-05-04T08:06:19.092344Z"
    },
    "papermill": {
     "duration": 1.019296,
     "end_time": "2024-05-04T08:06:19.096176",
     "exception": false,
     "start_time": "2024-05-04T08:06:18.076880",
     "status": "completed"
    },
    "tags": []
   },
   "outputs": [
    {
     "name": "stdout",
     "output_type": "stream",
     "text": [
      "daisy  dandelion  rose\tsunflower  tulip\r\n"
     ]
    }
   ],
   "source": [
    "!ls '/kaggle/input/glcv1-flowers/flowers/test'"
   ]
  },
  {
   "cell_type": "code",
   "execution_count": 10,
   "id": "88d21173",
   "metadata": {
    "execution": {
     "iopub.execute_input": "2024-05-04T08:06:19.124924Z",
     "iopub.status.busy": "2024-05-04T08:06:19.124226Z",
     "iopub.status.idle": "2024-05-04T08:06:20.152204Z",
     "shell.execute_reply": "2024-05-04T08:06:20.150756Z"
    },
    "executionInfo": {
     "elapsed": 1080,
     "status": "ok",
     "timestamp": 1613653187887,
     "user": {
      "displayName": "Abhijeet Athipet",
      "photoUrl": "",
      "userId": "03842398259045874555"
     },
     "user_tz": -330
    },
    "id": "U2rV6UPvf9PV",
    "papermill": {
     "duration": 1.045481,
     "end_time": "2024-05-04T08:06:20.154979",
     "exception": false,
     "start_time": "2024-05-04T08:06:19.109498",
     "status": "completed"
    },
    "tags": []
   },
   "outputs": [
    {
     "name": "stdout",
     "output_type": "stream",
     "text": [
      "\u001b[34mdaisy\u001b[m\u001b[m     \u001b[34mdandelion\u001b[m\u001b[m \u001b[34mrose\u001b[m\u001b[m      \u001b[34msunflower\u001b[m\u001b[m \u001b[34mtulip\u001b[m\u001b[m\n"
     ]
    }
   ],
   "source": [
    "images_path = \"/Users/premkishanmishra/Official/CV/W1 mentor/flowers\"\n",
    "!ls '/Users/premkishanmishra/Official/CV/W1 mentor/flowers/train'"
   ]
  },
  {
   "cell_type": "code",
   "execution_count": 11,
   "id": "d7421169",
   "metadata": {
    "execution": {
     "iopub.execute_input": "2024-05-04T08:06:20.184715Z",
     "iopub.status.busy": "2024-05-04T08:06:20.183957Z",
     "iopub.status.idle": "2024-05-04T08:06:20.526941Z",
     "shell.execute_reply": "2024-05-04T08:06:20.525987Z"
    },
    "papermill": {
     "duration": 0.360803,
     "end_time": "2024-05-04T08:06:20.529816",
     "exception": false,
     "start_time": "2024-05-04T08:06:20.169013",
     "status": "completed"
    },
    "tags": []
   },
   "outputs": [
    {
     "ename": "ModuleNotFoundError",
     "evalue": "No module named 'cv2'",
     "output_type": "error",
     "traceback": [
      "\u001b[0;31m---------------------------------------------------------------------------\u001b[0m",
      "\u001b[0;31mModuleNotFoundError\u001b[0m                       Traceback (most recent call last)",
      "Cell \u001b[0;32mIn[11], line 2\u001b[0m\n\u001b[1;32m      1\u001b[0m \u001b[38;5;28;01mimport\u001b[39;00m \u001b[38;5;21;01mos\u001b[39;00m\n\u001b[0;32m----> 2\u001b[0m \u001b[38;5;28;01mimport\u001b[39;00m \u001b[38;5;21;01mcv2\u001b[39;00m\n",
      "\u001b[0;31mModuleNotFoundError\u001b[0m: No module named 'cv2'"
     ]
    }
   ],
   "source": [
    "import os\n",
    "import cv2"
   ]
  },
  {
   "cell_type": "markdown",
   "id": "38f4d313",
   "metadata": {
    "id": "TF6IorgsSqG5",
    "papermill": {
     "duration": 0.014509,
     "end_time": "2024-05-04T08:06:20.559862",
     "exception": false,
     "start_time": "2024-05-04T08:06:20.545353",
     "status": "completed"
    },
    "tags": []
   },
   "source": [
    "**Extracting the dataset.zip to the present working directory**"
   ]
  },
  {
   "cell_type": "code",
   "execution_count": 6,
   "id": "149b8c2e",
   "metadata": {
    "execution": {
     "iopub.execute_input": "2024-05-04T08:06:20.591774Z",
     "iopub.status.busy": "2024-05-04T08:06:20.590956Z",
     "iopub.status.idle": "2024-05-04T08:06:20.595809Z",
     "shell.execute_reply": "2024-05-04T08:06:20.594714Z"
    },
    "executionInfo": {
     "elapsed": 7280,
     "status": "ok",
     "timestamp": 1613653198584,
     "user": {
      "displayName": "Abhijeet Athipet",
      "photoUrl": "",
      "userId": "03842398259045874555"
     },
     "user_tz": -330
    },
    "id": "6fF2XlCnfhDD",
    "papermill": {
     "duration": 0.023816,
     "end_time": "2024-05-04T08:06:20.598429",
     "exception": false,
     "start_time": "2024-05-04T08:06:20.574613",
     "status": "completed"
    },
    "tags": []
   },
   "outputs": [],
   "source": [
    "# from zipfile import ZipFile\n",
    "# with ZipFile(images_path,'r') as zip:\n",
    "#   zip.extractall()"
   ]
  },
  {
   "cell_type": "markdown",
   "id": "df347552",
   "metadata": {
    "papermill": {
     "duration": 0.01433,
     "end_time": "2024-05-04T08:06:20.627934",
     "exception": false,
     "start_time": "2024-05-04T08:06:20.613604",
     "status": "completed"
    },
    "tags": []
   },
   "source": [
    "- You can check the currect working directory for the extracted file"
   ]
  },
  {
   "cell_type": "markdown",
   "id": "fdd4f69d",
   "metadata": {
    "papermill": {
     "duration": 0.014047,
     "end_time": "2024-05-04T08:06:20.656591",
     "exception": false,
     "start_time": "2024-05-04T08:06:20.642544",
     "status": "completed"
    },
    "tags": []
   },
   "source": [
    "### Data Extraction"
   ]
  },
  {
   "cell_type": "code",
   "execution_count": 7,
   "id": "5aaf5503",
   "metadata": {
    "execution": {
     "iopub.execute_input": "2024-05-04T08:06:20.688021Z",
     "iopub.status.busy": "2024-05-04T08:06:20.687049Z",
     "iopub.status.idle": "2024-05-04T08:06:20.846961Z",
     "shell.execute_reply": "2024-05-04T08:06:20.845701Z"
    },
    "papermill": {
     "duration": 0.178364,
     "end_time": "2024-05-04T08:06:20.849481",
     "exception": false,
     "start_time": "2024-05-04T08:06:20.671117",
     "status": "completed"
    },
    "tags": []
   },
   "outputs": [
    {
     "name": "stdout",
     "output_type": "stream",
     "text": [
      "/kaggle/input/glcv1-flowers/flowers/train\n",
      "/kaggle/input/glcv1-flowers/flowers/train/dandelion/34578947551_863af3acb3_n.jpg\n",
      "(159, 240, 3)\n"
     ]
    }
   ],
   "source": [
    "dataset =  images_path + 'train'\n",
    "print(dataset)\n",
    "for i in os.listdir(dataset):\n",
    "    for j in os.listdir(os.path.join(dataset, i)):\n",
    "        print(os.path.join(dataset, i, j))\n",
    "        dummy = cv2.imread(os.path.join(dataset, i, j))\n",
    "        print(dummy.shape)\n",
    "        #print(dummy)\n",
    "        break\n",
    "        # read each image inside train directory one by one\n",
    "        #dummy = cv2.imread(os.path.join(dataset, i, j))\n",
    "        #dummy = cv2.resize(dummy, (img, img))   # Resizing can\n",
    "    break"
   ]
  },
  {
   "cell_type": "code",
   "execution_count": 8,
   "id": "fff2acc7",
   "metadata": {
    "execution": {
     "iopub.execute_input": "2024-05-04T08:06:20.878737Z",
     "iopub.status.busy": "2024-05-04T08:06:20.877917Z",
     "iopub.status.idle": "2024-05-04T08:06:20.882394Z",
     "shell.execute_reply": "2024-05-04T08:06:20.881468Z"
    },
    "papermill": {
     "duration": 0.021447,
     "end_time": "2024-05-04T08:06:20.884602",
     "exception": false,
     "start_time": "2024-05-04T08:06:20.863155",
     "status": "completed"
    },
    "tags": []
   },
   "outputs": [],
   "source": [
    "# img = cv2.imread(\"/kaggle/input/glcv1-flowers/flowers/train/dandelion/34578947551_863af3acb3_n.jpg\")\n",
    "# img.shape"
   ]
  },
  {
   "cell_type": "code",
   "execution_count": 9,
   "id": "0b80e392",
   "metadata": {
    "execution": {
     "iopub.execute_input": "2024-05-04T08:06:20.912478Z",
     "iopub.status.busy": "2024-05-04T08:06:20.912157Z",
     "iopub.status.idle": "2024-05-04T08:07:02.022786Z",
     "shell.execute_reply": "2024-05-04T08:07:02.021863Z"
    },
    "papermill": {
     "duration": 41.127663,
     "end_time": "2024-05-04T08:07:02.025471",
     "exception": false,
     "start_time": "2024-05-04T08:06:20.897808",
     "status": "completed"
    },
    "tags": []
   },
   "outputs": [
    {
     "name": "stdout",
     "output_type": "stream",
     "text": [
      "dandelion\n",
      "daisy\n",
      "sunflower\n",
      "tulip\n",
      "rose\n"
     ]
    }
   ],
   "source": [
    "dataset =  images_path + 'train'\n",
    "X = []\n",
    "y = []\n",
    "labels = []\n",
    "img=8\n",
    "# list all folders inside train directory\n",
    "for i in os.listdir(dataset):\n",
    "    print(i)\n",
    "    if i!= '.DS_Store':   #Specific to Mac\n",
    "      labels.append(i)        \n",
    "      for j in os.listdir(os.path.join(dataset, i)):\n",
    "        # read each image inside train directory one by one\n",
    "        dummy = cv2.imread(os.path.join(dataset, i, j))\n",
    "        dummy = cv2.resize(dummy, (img, img))   # Resizing can be any number - 128 is just kept for standard reference\n",
    "        X.append(dummy)\n",
    "        y.append(i)"
   ]
  },
  {
   "cell_type": "code",
   "execution_count": 10,
   "id": "8f235bae",
   "metadata": {
    "execution": {
     "iopub.execute_input": "2024-05-04T08:07:02.054505Z",
     "iopub.status.busy": "2024-05-04T08:07:02.053923Z",
     "iopub.status.idle": "2024-05-04T08:07:02.061511Z",
     "shell.execute_reply": "2024-05-04T08:07:02.060552Z"
    },
    "papermill": {
     "duration": 0.024467,
     "end_time": "2024-05-04T08:07:02.063900",
     "exception": false,
     "start_time": "2024-05-04T08:07:02.039433",
     "status": "completed"
    },
    "tags": []
   },
   "outputs": [
    {
     "data": {
      "text/plain": [
       "3823"
      ]
     },
     "execution_count": 10,
     "metadata": {},
     "output_type": "execute_result"
    }
   ],
   "source": [
    "len(X)"
   ]
  },
  {
   "cell_type": "code",
   "execution_count": 11,
   "id": "8d11429d",
   "metadata": {
    "execution": {
     "iopub.execute_input": "2024-05-04T08:07:02.092756Z",
     "iopub.status.busy": "2024-05-04T08:07:02.092122Z",
     "iopub.status.idle": "2024-05-04T08:07:02.098778Z",
     "shell.execute_reply": "2024-05-04T08:07:02.097863Z"
    },
    "papermill": {
     "duration": 0.023427,
     "end_time": "2024-05-04T08:07:02.101022",
     "exception": false,
     "start_time": "2024-05-04T08:07:02.077595",
     "status": "completed"
    },
    "tags": []
   },
   "outputs": [
    {
     "data": {
      "text/plain": [
       "((8, 8, 3), 'rose')"
      ]
     },
     "execution_count": 11,
     "metadata": {},
     "output_type": "execute_result"
    }
   ],
   "source": [
    "X[3600].shape, y[3600]"
   ]
  },
  {
   "cell_type": "code",
   "execution_count": 12,
   "id": "161fa33a",
   "metadata": {
    "execution": {
     "iopub.execute_input": "2024-05-04T08:07:02.129796Z",
     "iopub.status.busy": "2024-05-04T08:07:02.129452Z",
     "iopub.status.idle": "2024-05-04T08:07:02.139466Z",
     "shell.execute_reply": "2024-05-04T08:07:02.138552Z"
    },
    "papermill": {
     "duration": 0.026861,
     "end_time": "2024-05-04T08:07:02.141714",
     "exception": false,
     "start_time": "2024-05-04T08:07:02.114853",
     "status": "completed"
    },
    "tags": []
   },
   "outputs": [
    {
     "data": {
      "text/plain": [
       "array([[[182, 176, 186],\n",
       "        [150, 134, 160],\n",
       "        [ 71, 100, 113],\n",
       "        [ 32,  35,  63],\n",
       "        [ 61,  59,  64],\n",
       "        [ 84,  83,  88],\n",
       "        [ 53,  50,  98],\n",
       "        [ 85,  87,  90]],\n",
       "\n",
       "       [[ 38,  33, 220],\n",
       "        [ 42,  51,  62],\n",
       "        [ 66,  48, 185],\n",
       "        [ 67,  91, 149],\n",
       "        [ 31,  32,  33],\n",
       "        [ 28,  31,  28],\n",
       "        [ 50,  49,  96],\n",
       "        [110, 110, 111]],\n",
       "\n",
       "       [[ 21,  59,  80],\n",
       "        [ 38,  60,  75],\n",
       "        [100, 149, 144],\n",
       "        [ 77, 102, 142],\n",
       "        [ 88,  69, 195],\n",
       "        [ 78,  74,  81],\n",
       "        [140, 133, 165],\n",
       "        [184, 182, 187]],\n",
       "\n",
       "       [[ 58, 103, 131],\n",
       "        [ 23,  43,  44],\n",
       "        [ 30,  61,  56],\n",
       "        [ 66, 100, 111],\n",
       "        [ 22,  14, 160],\n",
       "        [222, 217, 223],\n",
       "        [ 95, 107, 114],\n",
       "        [253, 252, 252]],\n",
       "\n",
       "       [[ 30,  59,  56],\n",
       "        [163, 153, 187],\n",
       "        [166, 149, 248],\n",
       "        [ 67,  73, 145],\n",
       "        [ 22,  13, 113],\n",
       "        [198, 195, 207],\n",
       "        [207, 199, 208],\n",
       "        [229, 221, 228]],\n",
       "\n",
       "       [[ 96,  84,  95],\n",
       "        [ 21,  40,  50],\n",
       "        [ 85,  89, 189],\n",
       "        [ 81,  72, 216],\n",
       "        [225, 207, 223],\n",
       "        [ 68,  55, 159],\n",
       "        [ 32,  37,  71],\n",
       "        [222, 211, 219]],\n",
       "\n",
       "       [[ 19,  47,  43],\n",
       "        [ 77,  57, 204],\n",
       "        [ 11,  27,  33],\n",
       "        [ 40,  74,  72],\n",
       "        [208, 200, 210],\n",
       "        [154, 142, 176],\n",
       "        [146, 152, 168],\n",
       "        [226, 221, 223]],\n",
       "\n",
       "       [[ 88, 110, 134],\n",
       "        [ 33,  35,  49],\n",
       "        [ 21,  67,  67],\n",
       "        [ 27,  44,  37],\n",
       "        [212, 200, 216],\n",
       "        [210, 197, 205],\n",
       "        [ 47,  52,  97],\n",
       "        [ 33,  35,  68]]], dtype=uint8)"
      ]
     },
     "execution_count": 12,
     "metadata": {},
     "output_type": "execute_result"
    }
   ],
   "source": [
    "X[3600]"
   ]
  },
  {
   "cell_type": "code",
   "execution_count": 13,
   "id": "e901e9b2",
   "metadata": {
    "execution": {
     "iopub.execute_input": "2024-05-04T08:07:02.171277Z",
     "iopub.status.busy": "2024-05-04T08:07:02.170564Z",
     "iopub.status.idle": "2024-05-04T08:07:02.175497Z",
     "shell.execute_reply": "2024-05-04T08:07:02.174581Z"
    },
    "papermill": {
     "duration": 0.021999,
     "end_time": "2024-05-04T08:07:02.177825",
     "exception": false,
     "start_time": "2024-05-04T08:07:02.155826",
     "status": "completed"
    },
    "tags": []
   },
   "outputs": [
    {
     "name": "stdout",
     "output_type": "stream",
     "text": [
      "3823 3823\n"
     ]
    }
   ],
   "source": [
    "print(len(X), len(y))"
   ]
  },
  {
   "cell_type": "markdown",
   "id": "ba91150a",
   "metadata": {
    "papermill": {
     "duration": 0.015421,
     "end_time": "2024-05-04T08:07:02.207909",
     "exception": false,
     "start_time": "2024-05-04T08:07:02.192488",
     "status": "completed"
    },
    "tags": []
   },
   "source": [
    "- There are totally 3823 flowers in the given dataset with 5 classes"
   ]
  },
  {
   "cell_type": "markdown",
   "id": "ad666bf9",
   "metadata": {
    "papermill": {
     "duration": 0.014153,
     "end_time": "2024-05-04T08:07:02.237307",
     "exception": false,
     "start_time": "2024-05-04T08:07:02.223154",
     "status": "completed"
    },
    "tags": []
   },
   "source": [
    "### Data Vizualization"
   ]
  },
  {
   "cell_type": "code",
   "execution_count": 14,
   "id": "34334ffb",
   "metadata": {
    "execution": {
     "iopub.execute_input": "2024-05-04T08:07:02.267889Z",
     "iopub.status.busy": "2024-05-04T08:07:02.267503Z",
     "iopub.status.idle": "2024-05-04T08:07:02.800223Z",
     "shell.execute_reply": "2024-05-04T08:07:02.798999Z"
    },
    "papermill": {
     "duration": 0.551123,
     "end_time": "2024-05-04T08:07:02.803038",
     "exception": false,
     "start_time": "2024-05-04T08:07:02.251915",
     "status": "completed"
    },
    "tags": []
   },
   "outputs": [
    {
     "name": "stdout",
     "output_type": "stream",
     "text": [
      "[ 438  216 3076 1150 2150 2626 3715 2024 2510  456]\n"
     ]
    },
    {
     "data": {
      "image/png": "[encoded data removed]",
      "text/plain": [
       "<Figure size 2000x2000 with 10 Axes>"
      ]
     },
     "metadata": {},
     "output_type": "display_data"
    }
   ],
   "source": [
    "# visualizing the random images in the dataset along with their labels\n",
    "\n",
    "# VISUALIZATION\n",
    "import matplotlib.pyplot as plt # MATPLOTLIB FOR PLOTTING\n",
    "import numpy as np\n",
    "rand = np.random.randint(0, len(X), 10) # Generating 10 random numbers out of total number of flowers\n",
    "print(rand)\n",
    "plt.figure(figsize=(20, 20))\n",
    "for i,j in enumerate(rand):\n",
    "    plt.subplot(1, len(rand), i+1)\n",
    "    plt.imshow(X[j])  # greens, reds, blues, rgb\n",
    "    plt.title(\"{}\".format(y[j]))\n",
    "    plt.axis('off')\n",
    "plt.show()"
   ]
  },
  {
   "cell_type": "markdown",
   "id": "2ec2c9cb",
   "metadata": {
    "papermill": {
     "duration": 0.014792,
     "end_time": "2024-05-04T08:07:02.833613",
     "exception": false,
     "start_time": "2024-05-04T08:07:02.818821",
     "status": "completed"
    },
    "tags": []
   },
   "source": [
    "### Image Exploration and Transformation"
   ]
  },
  {
   "cell_type": "code",
   "execution_count": 15,
   "id": "0598ea64",
   "metadata": {
    "execution": {
     "iopub.execute_input": "2024-05-04T08:07:02.865223Z",
     "iopub.status.busy": "2024-05-04T08:07:02.864517Z",
     "iopub.status.idle": "2024-05-04T08:07:03.671907Z",
     "shell.execute_reply": "2024-05-04T08:07:03.670823Z"
    },
    "papermill": {
     "duration": 0.826334,
     "end_time": "2024-05-04T08:07:03.674565",
     "exception": false,
     "start_time": "2024-05-04T08:07:02.848231",
     "status": "completed"
    },
    "tags": []
   },
   "outputs": [
    {
     "data": {
      "image/png": "[encoded data removed]",
      "text/plain": [
       "<Figure size 2000x2000 with 5 Axes>"
      ]
     },
     "metadata": {},
     "output_type": "display_data"
    }
   ],
   "source": [
    "import random\n",
    "\n",
    "# Original Image\n",
    "img_org = random.choice(X)\n",
    "\n",
    "# Gray Image\n",
    "gray_image = cv2.cvtColor(img_org, cv2.COLOR_RGB2GRAY)\n",
    "\n",
    "# Blur Image\n",
    "blur_img = cv2.GaussianBlur(img_org,ksize=(5,5),sigmaX=0,sigmaY=0)\n",
    "\n",
    "# Sharp Image\n",
    "sharp_filter = np.array([[0,-1,0],\n",
    "                        [-1,5,-1],\n",
    "                        [0,-1,0]])\n",
    "\n",
    "edge_filter = np.array([[-1,-1,-1],\n",
    "                        [-1,8,-1],\n",
    "                        [-1,-1,-1]])\n",
    "\n",
    "sharp_img = cv2.filter2D(img_org,kernel=sharp_filter,ddepth=-1)\n",
    "edge_img = cv2.filter2D(img_org,kernel=edge_filter,ddepth=-1)\n",
    "\n",
    "img_title = ['original_image', 'gray_image', 'blurred_image', 'sharp_image','edge_image']\n",
    "\n",
    "plt.figure(figsize=(20,20))\n",
    "for i,img_ in enumerate([img_org, gray_image, blur_img, sharp_img,edge_img]):\n",
    "    plt.subplot(1,5,i+1)\n",
    "    plt.title(img_title[i])\n",
    "    plt.imshow(img_,cmap='gray')"
   ]
  },
  {
   "cell_type": "markdown",
   "id": "dcc17933",
   "metadata": {
    "papermill": {
     "duration": 0.015223,
     "end_time": "2024-05-04T08:07:03.706326",
     "exception": false,
     "start_time": "2024-05-04T08:07:03.691103",
     "status": "completed"
    },
    "tags": []
   },
   "source": [
    "- For further image processing 'pillow' library can be used\n",
    "- pillow library is one of the important library for image augmentation technique\n",
    "- We can also use image datagenerator for image augmentation"
   ]
  },
  {
   "cell_type": "markdown",
   "id": "b505b474",
   "metadata": {
    "papermill": {
     "duration": 0.01495,
     "end_time": "2024-05-04T08:07:03.736931",
     "exception": false,
     "start_time": "2024-05-04T08:07:03.721981",
     "status": "completed"
    },
    "tags": []
   },
   "source": [
    "### Train-Test Split"
   ]
  },
  {
   "cell_type": "code",
   "execution_count": 16,
   "id": "54241c98",
   "metadata": {
    "execution": {
     "iopub.execute_input": "2024-05-04T08:07:03.769244Z",
     "iopub.status.busy": "2024-05-04T08:07:03.768119Z",
     "iopub.status.idle": "2024-05-04T08:07:03.779259Z",
     "shell.execute_reply": "2024-05-04T08:07:03.778172Z"
    },
    "papermill": {
     "duration": 0.029847,
     "end_time": "2024-05-04T08:07:03.781647",
     "exception": false,
     "start_time": "2024-05-04T08:07:03.751800",
     "status": "completed"
    },
    "tags": []
   },
   "outputs": [
    {
     "name": "stdout",
     "output_type": "stream",
     "text": [
      "(3823, 8, 8, 3) (3823,)\n"
     ]
    }
   ],
   "source": [
    "X = np.array(X)\n",
    "y = np.array(y)\n",
    "\n",
    "print(X.shape, y.shape)"
   ]
  },
  {
   "cell_type": "code",
   "execution_count": 17,
   "id": "55cba229",
   "metadata": {
    "execution": {
     "iopub.execute_input": "2024-05-04T08:07:03.813814Z",
     "iopub.status.busy": "2024-05-04T08:07:03.812868Z",
     "iopub.status.idle": "2024-05-04T08:07:05.370641Z",
     "shell.execute_reply": "2024-05-04T08:07:05.369341Z"
    },
    "papermill": {
     "duration": 1.576669,
     "end_time": "2024-05-04T08:07:05.373488",
     "exception": false,
     "start_time": "2024-05-04T08:07:03.796819",
     "status": "completed"
    },
    "tags": []
   },
   "outputs": [],
   "source": [
    "from sklearn.model_selection import train_test_split\n",
    "\n",
    "X_train, X_test, y_train, y_test = train_test_split(X, y, test_size=0.2, random_state=42, stratify=y)"
   ]
  },
  {
   "cell_type": "code",
   "execution_count": 18,
   "id": "06239f90",
   "metadata": {
    "execution": {
     "iopub.execute_input": "2024-05-04T08:07:05.406338Z",
     "iopub.status.busy": "2024-05-04T08:07:05.405634Z",
     "iopub.status.idle": "2024-05-04T08:07:05.415155Z",
     "shell.execute_reply": "2024-05-04T08:07:05.413863Z"
    },
    "papermill": {
     "duration": 0.028375,
     "end_time": "2024-05-04T08:07:05.417454",
     "exception": false,
     "start_time": "2024-05-04T08:07:05.389079",
     "status": "completed"
    },
    "tags": []
   },
   "outputs": [
    {
     "name": "stdout",
     "output_type": "stream",
     "text": [
      "Train_Shape: (3058, 192) (3058,)\n",
      "Test_Shape: (765, 192) (765,)\n"
     ]
    }
   ],
   "source": [
    "# Reshaping the train and test data as per the SL model requirement\n",
    "img_shape = img*img*3\n",
    "X_train_ML = X_train.astype('float32')\n",
    "X_train_ML = X_train_ML.reshape(X_train_ML.shape[0], img_shape)\n",
    "X_train_ML = X_train_ML/255\n",
    "\n",
    "X_test_ML = X_test.astype('float32')\n",
    "X_test_ML = X_test_ML.reshape(X_test_ML.shape[0], img_shape)\n",
    "X_test_ML = X_test_ML/255\n",
    "\n",
    "#y_train_ML = y_train.reshape(y_train.shape[0], 1)\n",
    "#y_test_ML = y_test.reshape(y_test.shape[0], 1)\n",
    "\n",
    "\n",
    "print('Train_Shape:', X_train_ML.shape, y_train.shape)\n",
    "print('Test_Shape:', X_test_ML.shape, y_test.shape)"
   ]
  },
  {
   "cell_type": "markdown",
   "id": "d5fa5c26",
   "metadata": {
    "papermill": {
     "duration": 0.014974,
     "end_time": "2024-05-04T08:07:05.447577",
     "exception": false,
     "start_time": "2024-05-04T08:07:05.432603",
     "status": "completed"
    },
    "tags": []
   },
   "source": [
    "### Model Building - Supeveized Learning"
   ]
  },
  {
   "cell_type": "code",
   "execution_count": 19,
   "id": "fb4d5c11",
   "metadata": {
    "execution": {
     "iopub.execute_input": "2024-05-04T08:07:05.480310Z",
     "iopub.status.busy": "2024-05-04T08:07:05.479634Z",
     "iopub.status.idle": "2024-05-04T08:07:06.037396Z",
     "shell.execute_reply": "2024-05-04T08:07:06.035841Z"
    },
    "papermill": {
     "duration": 0.580825,
     "end_time": "2024-05-04T08:07:06.043787",
     "exception": false,
     "start_time": "2024-05-04T08:07:05.462962",
     "status": "completed"
    },
    "tags": []
   },
   "outputs": [
    {
     "name": "stdout",
     "output_type": "stream",
     "text": [
      "Train Accuracy :  0.5631131458469588\n",
      "Test Accuracy :  0.45098039215686275\n"
     ]
    },
    {
     "name": "stderr",
     "output_type": "stream",
     "text": [
      "/opt/conda/lib/python3.7/site-packages/sklearn/linear_model/_logistic.py:818: ConvergenceWarning: lbfgs failed to converge (status=1):\n",
      "STOP: TOTAL NO. of ITERATIONS REACHED LIMIT.\n",
      "\n",
      "Increase the number of iterations (max_iter) or scale the data as shown in:\n",
      "    https://scikit-learn.org/stable/modules/preprocessing.html\n",
      "Please also refer to the documentation for alternative solver options:\n",
      "    https://scikit-learn.org/stable/modules/linear_model.html#logistic-regression\n",
      "  extra_warning_msg=_LOGISTIC_SOLVER_CONVERGENCE_MSG,\n"
     ]
    }
   ],
   "source": [
    "# Logistic Regression\n",
    "\n",
    "from sklearn. linear_model import LogisticRegression\n",
    "from sklearn.metrics import accuracy_score\n",
    "\n",
    "LogR = LogisticRegression()\n",
    "LogR.fit(X_train_ML, y_train)\n",
    "\n",
    "y_pred_lrt=LogR.predict(X_train_ML)\n",
    "LogR_Accuracy_Train = accuracy_score(y_true=y_train, y_pred=y_pred_lrt)\n",
    "print(\"Train Accuracy : \", LogR_Accuracy_Train)\n",
    "\n",
    "y_pred_lrte = LogR.predict(X_test_ML)\n",
    "LogR_Accuracy_Test = accuracy_score(y_true=y_test, y_pred=y_pred_lrte)\n",
    "print(\"Test Accuracy : \", LogR_Accuracy_Test)"
   ]
  },
  {
   "cell_type": "code",
   "execution_count": 20,
   "id": "e57c96bb",
   "metadata": {
    "execution": {
     "iopub.execute_input": "2024-05-04T08:07:06.116602Z",
     "iopub.status.busy": "2024-05-04T08:07:06.115968Z",
     "iopub.status.idle": "2024-05-04T08:07:06.221737Z",
     "shell.execute_reply": "2024-05-04T08:07:06.219878Z"
    },
    "papermill": {
     "duration": 0.147887,
     "end_time": "2024-05-04T08:07:06.226935",
     "exception": false,
     "start_time": "2024-05-04T08:07:06.079048",
     "status": "completed"
    },
    "tags": []
   },
   "outputs": [
    {
     "name": "stdout",
     "output_type": "stream",
     "text": [
      "Training kernel is = <class 'sklearn.naive_bayes.BernoulliNB'> \tScore= 0.2540876389797253\n",
      "Test kernel is = <class 'sklearn.naive_bayes.BernoulliNB'> \tScore= 0.2130718954248366\n",
      "Training kernel is = <class 'sklearn.naive_bayes.GaussianNB'> \tScore= 0.4296926095487247\n",
      "Test kernel is = <class 'sklearn.naive_bayes.GaussianNB'> \tScore= 0.403921568627451\n"
     ]
    }
   ],
   "source": [
    "# NB - Find the best NBs kernels\n",
    "\n",
    "from sklearn.naive_bayes import GaussianNB,BernoulliNB,MultinomialNB\n",
    "\n",
    "k=[BernoulliNB,GaussianNB]\n",
    "for i in range (len(k)):\n",
    "    NB_Classifier = k[i]()\n",
    "    NB_Classifier.fit(X_train_ML, y_train)\n",
    "    print ('Training kernel is =',k[i], '\\tScore=',NB_Classifier.score(X_train_ML, y_train))\n",
    "    print ('Test kernel is =',k[i], '\\tScore=',NB_Classifier.score(X_test_ML, y_test))"
   ]
  },
  {
   "cell_type": "code",
   "execution_count": 21,
   "id": "aea6ab9f",
   "metadata": {
    "execution": {
     "iopub.execute_input": "2024-05-04T08:07:06.302733Z",
     "iopub.status.busy": "2024-05-04T08:07:06.302240Z",
     "iopub.status.idle": "2024-05-04T08:07:06.337076Z",
     "shell.execute_reply": "2024-05-04T08:07:06.335574Z"
    },
    "papermill": {
     "duration": 0.075947,
     "end_time": "2024-05-04T08:07:06.339686",
     "exception": false,
     "start_time": "2024-05-04T08:07:06.263739",
     "status": "completed"
    },
    "tags": []
   },
   "outputs": [
    {
     "name": "stdout",
     "output_type": "stream",
     "text": [
      "Train Accuracy:  0.4296926095487247\n",
      "Test Accuracy :  0.403921568627451\n"
     ]
    }
   ],
   "source": [
    "# NB - Model - Gaussian NB is used as per the result from the above code\n",
    "\n",
    "from sklearn.naive_bayes import GaussianNB\n",
    "from sklearn.metrics import accuracy_score\n",
    "\n",
    "NB = GaussianNB()\n",
    "NB.fit(X_train_ML, y_train)\n",
    "\n",
    "y_pred_tr_NB = NB.predict(X_train_ML)\n",
    "NB_Accuracy_Train=accuracy_score(y_train, y_pred_tr_NB)\n",
    "print(\"Train Accuracy: \", NB_Accuracy_Train)\n",
    "\n",
    "y_pred_ts_NB = NB.predict(X_test_ML)\n",
    "NB_Accuracy_Test=accuracy_score(y_test, y_pred_ts_NB, normalize = True)\n",
    "print(\"Test Accuracy : \", NB_Accuracy_Test)"
   ]
  },
  {
   "cell_type": "code",
   "execution_count": 22,
   "id": "60b8996a",
   "metadata": {
    "execution": {
     "iopub.execute_input": "2024-05-04T08:07:06.376005Z",
     "iopub.status.busy": "2024-05-04T08:07:06.375548Z",
     "iopub.status.idle": "2024-05-04T08:07:06.380847Z",
     "shell.execute_reply": "2024-05-04T08:07:06.379719Z"
    },
    "papermill": {
     "duration": 0.026019,
     "end_time": "2024-05-04T08:07:06.383284",
     "exception": false,
     "start_time": "2024-05-04T08:07:06.357265",
     "status": "completed"
    },
    "tags": []
   },
   "outputs": [],
   "source": [
    "# # SVM - Model\n",
    "\n",
    "# from sklearn.svm import SVC\n",
    "# SVM = SVC()\n",
    "# SVM.fit(X_train_ML, y_train)\n",
    "\n",
    "# SVM_Accuracy=SVM.score(X_train_ML, y_train)\n",
    "# print(\"Train Accuracy : \", SVM_Accuracy)\n",
    "\n",
    "# SVM_Accuracy=SVM.score(X_test_ML, y_test)\n",
    "# print(\"Test Accuracy : \", SVM_Accuracy)"
   ]
  },
  {
   "cell_type": "code",
   "execution_count": 23,
   "id": "c76b9bb1",
   "metadata": {
    "execution": {
     "iopub.execute_input": "2024-05-04T08:07:06.417813Z",
     "iopub.status.busy": "2024-05-04T08:07:06.417418Z",
     "iopub.status.idle": "2024-05-04T08:07:07.010596Z",
     "shell.execute_reply": "2024-05-04T08:07:07.008982Z"
    },
    "papermill": {
     "duration": 0.615136,
     "end_time": "2024-05-04T08:07:07.015316",
     "exception": false,
     "start_time": "2024-05-04T08:07:06.400180",
     "status": "completed"
    },
    "tags": []
   },
   "outputs": [
    {
     "name": "stdout",
     "output_type": "stream",
     "text": [
      "Train Accuracy :  0.5493786788750817\n",
      "Test Accuracy :  0.3241830065359477\n"
     ]
    }
   ],
   "source": [
    "# KNN - Model\n",
    "\n",
    "from sklearn.neighbors import KNeighborsClassifier\n",
    "from sklearn.metrics import accuracy_score\n",
    "\n",
    "KNN = KNeighborsClassifier(n_neighbors=3) # Best neighbors to be identified\n",
    "KNN.fit(X_train_ML, y_train)\n",
    "\n",
    "y_pred_tr_knn = KNN.predict(X_train_ML)\n",
    "KNN_Accuracy_Train=accuracy_score(y_train, y_pred_tr_knn)\n",
    "print(\"Train Accuracy : \", KNN_Accuracy_Train)\n",
    "\n",
    "y_pred_ts_knn = KNN.predict(X_test_ML)\n",
    "KNN_Accuracy_Test=accuracy_score(y_test, y_pred_ts_knn)\n",
    "print(\"Test Accuracy : \", KNN_Accuracy_Test)"
   ]
  },
  {
   "cell_type": "code",
   "execution_count": 24,
   "id": "3aa5090b",
   "metadata": {
    "execution": {
     "iopub.execute_input": "2024-05-04T08:07:07.069590Z",
     "iopub.status.busy": "2024-05-04T08:07:07.068683Z",
     "iopub.status.idle": "2024-05-04T08:07:07.364742Z",
     "shell.execute_reply": "2024-05-04T08:07:07.363345Z"
    },
    "papermill": {
     "duration": 0.31849,
     "end_time": "2024-05-04T08:07:07.367161",
     "exception": false,
     "start_time": "2024-05-04T08:07:07.048671",
     "status": "completed"
    },
    "tags": []
   },
   "outputs": [
    {
     "name": "stdout",
     "output_type": "stream",
     "text": [
      "Train Accuracy: 0.46010464355788094\n",
      "Test Accuracy: 0.3712418300653595\n"
     ]
    }
   ],
   "source": [
    "# Decision Tree\n",
    "\n",
    "# Library\n",
    "from sklearn.tree import DecisionTreeClassifier\n",
    "from sklearn import metrics\n",
    "from sklearn.metrics import accuracy_score,f1_score,recall_score,precision_score, confusion_matrix\n",
    "\n",
    "# Model\n",
    "model_DT=DecisionTreeClassifier(criterion='gini',\n",
    "                                splitter='best',\n",
    "                                max_depth=5)\n",
    "\n",
    "model_DT.fit(X_train_ML, y_train)\n",
    "\n",
    "# Accuracy\n",
    "DT_Train=model_DT.score(X_train_ML, y_train)\n",
    "DT_Test=model_DT.score(X_test_ML, y_test)\n",
    "\n",
    "# Output\n",
    "print(\"Train Accuracy:\",DT_Train)\n",
    "print(\"Test Accuracy:\",DT_Test)"
   ]
  },
  {
   "cell_type": "code",
   "execution_count": 25,
   "id": "9d67d2ad",
   "metadata": {
    "execution": {
     "iopub.execute_input": "2024-05-04T08:07:07.400227Z",
     "iopub.status.busy": "2024-05-04T08:07:07.399905Z",
     "iopub.status.idle": "2024-05-04T08:07:07.804791Z",
     "shell.execute_reply": "2024-05-04T08:07:07.803627Z"
    },
    "papermill": {
     "duration": 0.423786,
     "end_time": "2024-05-04T08:07:07.807183",
     "exception": false,
     "start_time": "2024-05-04T08:07:07.383397",
     "status": "completed"
    },
    "tags": []
   },
   "outputs": [
    {
     "name": "stdout",
     "output_type": "stream",
     "text": [
      "Train Accuracy: 0.5909090909090909\n",
      "Test Accuracy: 0.4470588235294118\n"
     ]
    }
   ],
   "source": [
    "# RANDOM FOREST\n",
    "\n",
    "# Library\n",
    "from sklearn.ensemble import RandomForestClassifier\n",
    "from sklearn.metrics import accuracy_score\n",
    "# Model\n",
    "model_RF = RandomForestClassifier(n_estimators=20,\n",
    "                                    criterion='gini',\n",
    "                                    max_depth=5)\n",
    "model_RF.fit(X_train_ML, y_train)\n",
    "\n",
    "# Accuracy\n",
    "pred_RF = model_RF.predict(X_test_ML)\n",
    "RF_Train = model_RF.score(X_train_ML, y_train)\n",
    "RF_Test = accuracy_score(y_test, pred_RF)   \n",
    "\n",
    "# Output\n",
    "print(\"Train Accuracy:\",RF_Train)\n",
    "print(\"Test Accuracy:\",RF_Test)"
   ]
  },
  {
   "cell_type": "code",
   "execution_count": 26,
   "id": "3d226cbb",
   "metadata": {
    "execution": {
     "iopub.execute_input": "2024-05-04T08:07:07.840816Z",
     "iopub.status.busy": "2024-05-04T08:07:07.839983Z",
     "iopub.status.idle": "2024-05-04T08:07:10.654255Z",
     "shell.execute_reply": "2024-05-04T08:07:10.653022Z"
    },
    "papermill": {
     "duration": 2.834064,
     "end_time": "2024-05-04T08:07:10.656845",
     "exception": false,
     "start_time": "2024-05-04T08:07:07.822781",
     "status": "completed"
    },
    "tags": []
   },
   "outputs": [
    {
     "name": "stdout",
     "output_type": "stream",
     "text": [
      "Train Accuracy: 0.9996729888816219\n",
      "Test Accuracy: 0.465359477124183\n"
     ]
    }
   ],
   "source": [
    "# ADA Boosting\n",
    "\n",
    "# Library\n",
    "from sklearn.ensemble import AdaBoostClassifier\n",
    "from sklearn.ensemble import GradientBoostingClassifier\n",
    "\n",
    "# Model\n",
    "model = AdaBoostClassifier(base_estimator=RandomForestClassifier(n_estimators=10),    # SVC(), RandomForestClassifier(), GradientBoostingClassifier()\n",
    "                            n_estimators=10,)\n",
    "model_AB = model.fit(X_train_ML, y_train)\n",
    "\n",
    "# Accuracy\n",
    "AB_Train = model_AB.score(X_train_ML, y_train)\n",
    "pred_AB =model_AB.predict(X_test_ML)\n",
    "acc_AB = accuracy_score(y_test, pred_AB)\n",
    "\n",
    "print(\"Train Accuracy:\",AB_Train)\n",
    "print(\"Test Accuracy:\",acc_AB)"
   ]
  },
  {
   "cell_type": "code",
   "execution_count": 27,
   "id": "d19ca7e2",
   "metadata": {
    "execution": {
     "iopub.execute_input": "2024-05-04T08:07:10.690214Z",
     "iopub.status.busy": "2024-05-04T08:07:10.689516Z",
     "iopub.status.idle": "2024-05-04T08:07:10.694402Z",
     "shell.execute_reply": "2024-05-04T08:07:10.693356Z"
    },
    "papermill": {
     "duration": 0.023995,
     "end_time": "2024-05-04T08:07:10.696704",
     "exception": false,
     "start_time": "2024-05-04T08:07:10.672709",
     "status": "completed"
    },
    "tags": []
   },
   "outputs": [],
   "source": [
    "# # GRADIENT BOOSTING\n",
    "# import time\n",
    "# start = time.time()\n",
    "# # Library\n",
    "# from sklearn.ensemble import GradientBoostingClassifier\n",
    "\n",
    "# # Model\n",
    "# model = GradientBoostingClassifier(loss='deviance',\n",
    "#                                     learning_rate=0.1,\n",
    "#                                     n_estimators=10,verbose=2)\n",
    "# model_GB = model.fit(X_train_ML, y_train)\n",
    "\n",
    "# # Accuracy\n",
    "# GB_Train = model_GB.score(X_train_ML, y_train)\n",
    "# pred_GB =model_GB.predict(X_test_ML)\n",
    "# acc_GB = accuracy_score(y_test, pred_GB)\n",
    "\n",
    "# print(\"Training Accuracy:\",GB_Train)\n",
    "# print(\"Testing Accuracy:\",acc_GB)\n",
    "# end =time.time()\n",
    "\n",
    "# print((end-start)/60, \" minutes\")"
   ]
  },
  {
   "cell_type": "code",
   "execution_count": 28,
   "id": "3f2a825a",
   "metadata": {
    "execution": {
     "iopub.execute_input": "2024-05-04T08:07:10.729285Z",
     "iopub.status.busy": "2024-05-04T08:07:10.728558Z",
     "iopub.status.idle": "2024-05-04T08:07:10.734827Z",
     "shell.execute_reply": "2024-05-04T08:07:10.733799Z"
    },
    "papermill": {
     "duration": 0.024951,
     "end_time": "2024-05-04T08:07:10.737067",
     "exception": false,
     "start_time": "2024-05-04T08:07:10.712116",
     "status": "completed"
    },
    "tags": []
   },
   "outputs": [
    {
     "data": {
      "text/plain": [
       "array(['daisy', 'daisy', 'tulip', ..., 'rose', 'daisy', 'tulip'],\n",
       "      dtype='<U9')"
      ]
     },
     "execution_count": 28,
     "metadata": {},
     "output_type": "execute_result"
    }
   ],
   "source": [
    "y_train"
   ]
  },
  {
   "cell_type": "code",
   "execution_count": 29,
   "id": "bf0e39e0",
   "metadata": {
    "execution": {
     "iopub.execute_input": "2024-05-04T08:07:10.770121Z",
     "iopub.status.busy": "2024-05-04T08:07:10.769565Z",
     "iopub.status.idle": "2024-05-04T08:07:10.790368Z",
     "shell.execute_reply": "2024-05-04T08:07:10.789471Z"
    },
    "papermill": {
     "duration": 0.039846,
     "end_time": "2024-05-04T08:07:10.792600",
     "exception": false,
     "start_time": "2024-05-04T08:07:10.752754",
     "status": "completed"
    },
    "tags": []
   },
   "outputs": [
    {
     "data": {
      "text/plain": [
       "(3058, 5)"
      ]
     },
     "execution_count": 29,
     "metadata": {},
     "output_type": "execute_result"
    }
   ],
   "source": [
    "import pandas as pd\n",
    "pd.get_dummies(y_train).shape"
   ]
  },
  {
   "cell_type": "code",
   "execution_count": 30,
   "id": "2fab0e41",
   "metadata": {
    "execution": {
     "iopub.execute_input": "2024-05-04T08:07:10.826109Z",
     "iopub.status.busy": "2024-05-04T08:07:10.825340Z",
     "iopub.status.idle": "2024-05-04T08:07:10.832211Z",
     "shell.execute_reply": "2024-05-04T08:07:10.831442Z"
    },
    "papermill": {
     "duration": 0.025832,
     "end_time": "2024-05-04T08:07:10.834482",
     "exception": false,
     "start_time": "2024-05-04T08:07:10.808650",
     "status": "completed"
    },
    "tags": []
   },
   "outputs": [],
   "source": [
    "# Changing the Target parameter as per the requirement of the NN model\n",
    "\n",
    "# one hot encode outputs\n",
    "import pandas as pd\n",
    "y_train_NN = pd.get_dummies(y_train)\n",
    "y_test_NN = pd.get_dummies(y_test)"
   ]
  },
  {
   "cell_type": "code",
   "execution_count": 31,
   "id": "56cee1d5",
   "metadata": {
    "execution": {
     "iopub.execute_input": "2024-05-04T08:07:10.868078Z",
     "iopub.status.busy": "2024-05-04T08:07:10.867487Z",
     "iopub.status.idle": "2024-05-04T08:08:03.204978Z",
     "shell.execute_reply": "2024-05-04T08:08:03.203925Z"
    },
    "papermill": {
     "duration": 52.357168,
     "end_time": "2024-05-04T08:08:03.207647",
     "exception": false,
     "start_time": "2024-05-04T08:07:10.850479",
     "status": "completed"
    },
    "tags": []
   },
   "outputs": [
    {
     "name": "stdout",
     "output_type": "stream",
     "text": [
      "Epoch 1/15\n",
      "383/383 [==============================] - 10s 5ms/step - loss: 1.5015 - accuracy: 0.3244 - val_loss: 1.3592 - val_accuracy: 0.4026\n",
      "Epoch 2/15\n",
      "383/383 [==============================] - 2s 4ms/step - loss: 1.3480 - accuracy: 0.4068 - val_loss: 1.3286 - val_accuracy: 0.4353\n",
      "Epoch 3/15\n",
      "383/383 [==============================] - 2s 4ms/step - loss: 1.2863 - accuracy: 0.4503 - val_loss: 1.2829 - val_accuracy: 0.4340\n",
      "Epoch 4/15\n",
      "383/383 [==============================] - 2s 5ms/step - loss: 1.2331 - accuracy: 0.4751 - val_loss: 1.2409 - val_accuracy: 0.4693\n",
      "Epoch 5/15\n",
      "383/383 [==============================] - 2s 4ms/step - loss: 1.1751 - accuracy: 0.5154 - val_loss: 1.2368 - val_accuracy: 0.4980\n",
      "Epoch 6/15\n",
      "383/383 [==============================] - 2s 5ms/step - loss: 1.1465 - accuracy: 0.5294 - val_loss: 1.2398 - val_accuracy: 0.4771\n",
      "Epoch 7/15\n",
      "383/383 [==============================] - 2s 5ms/step - loss: 1.0947 - accuracy: 0.5526 - val_loss: 1.2547 - val_accuracy: 0.5098\n",
      "Epoch 8/15\n",
      "383/383 [==============================] - 2s 5ms/step - loss: 1.0642 - accuracy: 0.5690 - val_loss: 1.3042 - val_accuracy: 0.4719\n",
      "Epoch 9/15\n",
      "383/383 [==============================] - 2s 4ms/step - loss: 1.0156 - accuracy: 0.5853 - val_loss: 1.3002 - val_accuracy: 0.4667\n",
      "Epoch 10/15\n",
      "383/383 [==============================] - 2s 5ms/step - loss: 0.9638 - accuracy: 0.6145 - val_loss: 1.3440 - val_accuracy: 0.4627\n",
      "Epoch 11/15\n",
      "383/383 [==============================] - 2s 4ms/step - loss: 0.9446 - accuracy: 0.6236 - val_loss: 1.2911 - val_accuracy: 0.5007\n",
      "Epoch 12/15\n",
      "383/383 [==============================] - 2s 4ms/step - loss: 0.8921 - accuracy: 0.6472 - val_loss: 1.3630 - val_accuracy: 0.4654\n",
      "Epoch 13/15\n",
      "383/383 [==============================] - 2s 4ms/step - loss: 0.8697 - accuracy: 0.6645 - val_loss: 1.3311 - val_accuracy: 0.5046\n",
      "Epoch 14/15\n",
      "383/383 [==============================] - 2s 5ms/step - loss: 0.8185 - accuracy: 0.6759 - val_loss: 1.3734 - val_accuracy: 0.4693\n",
      "Epoch 15/15\n",
      "383/383 [==============================] - 2s 5ms/step - loss: 0.7710 - accuracy: 0.7005 - val_loss: 1.5641 - val_accuracy: 0.4797\n"
     ]
    }
   ],
   "source": [
    "### define model\n",
    "\n",
    "import tensorflow \n",
    "from tensorflow.keras import losses\n",
    "from tensorflow.keras import optimizers\n",
    "from tensorflow.keras.layers import Dropout\n",
    "from tensorflow.keras.layers import BatchNormalization\n",
    "from tensorflow.keras.models import Sequential\n",
    "from tensorflow.keras.layers import Dense, Activation\n",
    "\n",
    "\n",
    "# create model\n",
    "model = Sequential()  \n",
    "model.add(BatchNormalization(input_shape = (img_shape,)))  ### Batch_Norm Layer\n",
    "    \n",
    "model.add(Dense(256, activation='relu')) ###Multiple Dense units with Relu activation\n",
    "model.add(Dense(128, activation='relu'))\n",
    "model.add(Dropout(rate=0.2))\n",
    "model.add(Dense(64, activation='relu'))\n",
    "model.add(Dense(32, activation='relu'))\n",
    "#model.add(Dropout(rate=0.2))\n",
    "model.add(Dense(16, activation='relu'))\n",
    "model.add(Dense(5, activation='softmax'))\n",
    "    \n",
    "# Compile model\n",
    "adam = optimizers.Adam(lr=1e-3)\n",
    "model.compile(loss=losses.categorical_crossentropy, optimizer=adam, metrics=['accuracy']) ### Loss function = Categorical cross entropy\n",
    "\n",
    "# Fit the model\n",
    "histroy = model.fit(X_train_ML, y_train_NN, validation_data=(X_test_ML, y_test_NN), epochs=15, batch_size=8, verbose=1)"
   ]
  },
  {
   "cell_type": "code",
   "execution_count": 32,
   "id": "40644025",
   "metadata": {
    "execution": {
     "iopub.execute_input": "2024-05-04T08:08:03.325022Z",
     "iopub.status.busy": "2024-05-04T08:08:03.324300Z",
     "iopub.status.idle": "2024-05-04T08:08:03.875782Z",
     "shell.execute_reply": "2024-05-04T08:08:03.874691Z"
    },
    "papermill": {
     "duration": 0.612125,
     "end_time": "2024-05-04T08:08:03.878190",
     "exception": false,
     "start_time": "2024-05-04T08:08:03.266065",
     "status": "completed"
    },
    "tags": []
   },
   "outputs": [
    {
     "data": {
      "text/plain": [
       "Text(0.5, 1.0, 'Training and validation loss')"
      ]
     },
     "execution_count": 32,
     "metadata": {},
     "output_type": "execute_result"
    },
    {
     "data": {
      "image/png": "[encoded data removed]",
      "text/plain": [
       "<Figure size 640x480 with 1 Axes>"
      ]
     },
     "metadata": {},
     "output_type": "display_data"
    },
    {
     "data": {
      "image/png": "[encoded data removed]",
      "text/plain": [
       "<Figure size 640x480 with 1 Axes>"
      ]
     },
     "metadata": {},
     "output_type": "display_data"
    }
   ],
   "source": [
    "## Accuracy and Loss plots\n",
    "\n",
    "accuracy      = histroy.history['accuracy']\n",
    "val_accuracy  = histroy.history['val_accuracy']\n",
    "loss     = histroy.history['loss']\n",
    "val_loss = histroy.history['val_loss']\n",
    "\n",
    "epochs   = range(len(accuracy)) # Get number of epochs\n",
    "\n",
    "plt.plot  (epochs, accuracy, label = 'training accuracy')\n",
    "plt.plot  (epochs, val_accuracy, label = 'validation accuracy')\n",
    "plt.title ('Training and validation accuracy')\n",
    "plt.legend(loc = 'lower right')\n",
    "plt.figure()\n",
    "\n",
    "plt.plot  (epochs, loss, label = 'training loss')\n",
    "plt.plot  (epochs, val_loss, label = 'validation loss')\n",
    "plt.legend(loc = 'upper right')\n",
    "plt.title ('Training and validation loss')"
   ]
  },
  {
   "cell_type": "code",
   "execution_count": 33,
   "id": "0c51211b",
   "metadata": {
    "execution": {
     "iopub.execute_input": "2024-05-04T08:08:03.991928Z",
     "iopub.status.busy": "2024-05-04T08:08:03.990704Z",
     "iopub.status.idle": "2024-05-04T08:08:04.033635Z",
     "shell.execute_reply": "2024-05-04T08:08:04.032546Z"
    },
    "papermill": {
     "duration": 0.101006,
     "end_time": "2024-05-04T08:08:04.036020",
     "exception": false,
     "start_time": "2024-05-04T08:08:03.935014",
     "status": "completed"
    },
    "tags": []
   },
   "outputs": [
    {
     "data": {
      "text/html": [
       "<div>\n",
       "<style scoped>\n",
       "    .dataframe tbody tr th:only-of-type {\n",
       "        vertical-align: middle;\n",
       "    }\n",
       "\n",
       "    .dataframe tbody tr th {\n",
       "        vertical-align: top;\n",
       "    }\n",
       "\n",
       "    .dataframe thead th {\n",
       "        text-align: right;\n",
       "    }\n",
       "</style>\n",
       "<table border=\"1\" class=\"dataframe\">\n",
       "  <thead>\n",
       "    <tr style=\"text-align: right;\">\n",
       "      <th></th>\n",
       "      <th>Method</th>\n",
       "      <th>Train accuracy</th>\n",
       "      <th>Test accuracy</th>\n",
       "    </tr>\n",
       "  </thead>\n",
       "  <tbody>\n",
       "    <tr>\n",
       "      <th>0</th>\n",
       "      <td>Logistic Regression</td>\n",
       "      <td>0.563113</td>\n",
       "      <td>0.450980</td>\n",
       "    </tr>\n",
       "    <tr>\n",
       "      <th>0</th>\n",
       "      <td>Naive Bayes Regression</td>\n",
       "      <td>0.429693</td>\n",
       "      <td>0.403922</td>\n",
       "    </tr>\n",
       "    <tr>\n",
       "      <th>0</th>\n",
       "      <td>KNN</td>\n",
       "      <td>0.549379</td>\n",
       "      <td>0.324183</td>\n",
       "    </tr>\n",
       "    <tr>\n",
       "      <th>0</th>\n",
       "      <td>Decision Tree</td>\n",
       "      <td>0.563113</td>\n",
       "      <td>0.450980</td>\n",
       "    </tr>\n",
       "    <tr>\n",
       "      <th>0</th>\n",
       "      <td>Random Forest</td>\n",
       "      <td>0.590909</td>\n",
       "      <td>0.447059</td>\n",
       "    </tr>\n",
       "    <tr>\n",
       "      <th>0</th>\n",
       "      <td>ADA Boosting</td>\n",
       "      <td>0.999673</td>\n",
       "      <td>0.465359</td>\n",
       "    </tr>\n",
       "    <tr>\n",
       "      <th>0</th>\n",
       "      <td>Neural Network</td>\n",
       "      <td>0.700458</td>\n",
       "      <td>0.509804</td>\n",
       "    </tr>\n",
       "  </tbody>\n",
       "</table>\n",
       "</div>"
      ],
      "text/plain": [
       "                   Method  Train accuracy  Test accuracy\n",
       "0     Logistic Regression        0.563113       0.450980\n",
       "0  Naive Bayes Regression        0.429693       0.403922\n",
       "0                     KNN        0.549379       0.324183\n",
       "0           Decision Tree        0.563113       0.450980\n",
       "0           Random Forest        0.590909       0.447059\n",
       "0            ADA Boosting        0.999673       0.465359\n",
       "0          Neural Network        0.700458       0.509804"
      ]
     },
     "execution_count": 33,
     "metadata": {},
     "output_type": "execute_result"
    }
   ],
   "source": [
    "# Comparison table\n",
    "\n",
    "Comparison1 = pd.DataFrame({'Method':['Logistic Regression'], 'Train accuracy': LogR_Accuracy_Train, \n",
    "                           'Test accuracy': LogR_Accuracy_Test})\n",
    "Comparison1 = Comparison1[['Method', 'Train accuracy', 'Test accuracy']]\n",
    "\n",
    "\n",
    "Comparison2 = pd.DataFrame({'Method':['Naive Bayes Regression'], 'Train accuracy': NB_Accuracy_Train, \n",
    "                           'Test accuracy': NB_Accuracy_Test},)\n",
    "Comparison2 = Comparison2[['Method', 'Train accuracy', 'Test accuracy']]\n",
    "\n",
    "\n",
    "Comparison3 = pd.DataFrame({'Method':['KNN'], 'Train accuracy': KNN_Accuracy_Train, \n",
    "                           'Test accuracy': KNN_Accuracy_Test})\n",
    "Comparison3 = Comparison3[['Method', 'Train accuracy', 'Test accuracy']]\n",
    "\n",
    "\n",
    "# Comparison4 = pd.DataFrame({'Method':['SVM'], 'Train accuracy': DT_Train, \n",
    "#                            'Test accuracy': DT_Test})\n",
    "# Comparison4 = Comparison4[['Method', 'Train accuracy', 'Test accuracy']]\n",
    "\n",
    "\n",
    "Comparison5 = pd.DataFrame({'Method':['Decision Tree'], 'Train accuracy': LogR_Accuracy_Train, \n",
    "                            'Test accuracy': LogR_Accuracy_Test})\n",
    "Comparison5 = Comparison5[['Method', 'Train accuracy', 'Test accuracy']]\n",
    "\n",
    "\n",
    "\n",
    "Comparison6 = pd.DataFrame({'Method':['Random Forest'], 'Train accuracy': RF_Train, \n",
    "                           'Test accuracy': RF_Test})\n",
    "Comparison6 = Comparison6[['Method', 'Train accuracy', 'Test accuracy']]\n",
    "\n",
    "\n",
    "\n",
    "# Comparison7 = pd.DataFrame({'Method':['Gradient Boosting'], 'Train accuracy': GB_Train, \n",
    "#                            'Test accuracy': acc_GB})\n",
    "# Comparison7 = Comparison7[['Method', 'Train accuracy', 'Test accuracy']]\n",
    "\n",
    "\n",
    "\n",
    "Comparison8 = pd.DataFrame({'Method':['ADA Boosting'], 'Train accuracy': AB_Train, \n",
    "                           'Test accuracy': acc_AB})\n",
    "Comparison8 = Comparison8[['Method', 'Train accuracy', 'Test accuracy']]\n",
    "\n",
    "\n",
    "Comparison9 = pd.DataFrame({'Method':['Neural Network'], 'Train accuracy': max(accuracy), \n",
    "                           'Test accuracy': max(val_accuracy)})\n",
    "Comparison9 = Comparison9[['Method', 'Train accuracy', 'Test accuracy']]\n",
    "\n",
    "Comparison = pd.concat([Comparison1, Comparison2,Comparison3,#Comparison4,\n",
    "                        Comparison5,Comparison6,\n",
    "                        #Comparison7,\n",
    "                        Comparison8, Comparison9])\n",
    "\n",
    "Comparison"
   ]
  },
  {
   "cell_type": "markdown",
   "id": "5cff78fe",
   "metadata": {
    "papermill": {
     "duration": 0.056585,
     "end_time": "2024-05-04T08:08:04.151228",
     "exception": false,
     "start_time": "2024-05-04T08:08:04.094643",
     "status": "completed"
    },
    "tags": []
   },
   "source": [
    "- On comapring the model performance between NN tend to perform comparitively better than all the other supervized learning models"
   ]
  },
  {
   "cell_type": "code",
   "execution_count": 34,
   "id": "237b8b71",
   "metadata": {
    "execution": {
     "iopub.execute_input": "2024-05-04T08:08:04.266477Z",
     "iopub.status.busy": "2024-05-04T08:08:04.265657Z",
     "iopub.status.idle": "2024-05-04T08:08:04.534491Z",
     "shell.execute_reply": "2024-05-04T08:08:04.533319Z"
    },
    "papermill": {
     "duration": 0.329121,
     "end_time": "2024-05-04T08:08:04.536865",
     "exception": false,
     "start_time": "2024-05-04T08:08:04.207744",
     "status": "completed"
    },
    "tags": []
   },
   "outputs": [
    {
     "name": "stdout",
     "output_type": "stream",
     "text": [
      "24/24 [==============================] - 0s 2ms/step\n"
     ]
    }
   ],
   "source": [
    "val_pred = model.predict(X_test_ML)"
   ]
  },
  {
   "cell_type": "code",
   "execution_count": 35,
   "id": "4dfdcfa1",
   "metadata": {
    "execution": {
     "iopub.execute_input": "2024-05-04T08:08:04.651552Z",
     "iopub.status.busy": "2024-05-04T08:08:04.650755Z",
     "iopub.status.idle": "2024-05-04T08:08:04.658460Z",
     "shell.execute_reply": "2024-05-04T08:08:04.657375Z"
    },
    "papermill": {
     "duration": 0.066968,
     "end_time": "2024-05-04T08:08:04.661064",
     "exception": false,
     "start_time": "2024-05-04T08:08:04.594096",
     "status": "completed"
    },
    "tags": []
   },
   "outputs": [
    {
     "data": {
      "text/plain": [
       "array([0, 0, 0, 1, 0], dtype=uint8)"
      ]
     },
     "execution_count": 35,
     "metadata": {},
     "output_type": "execute_result"
    }
   ],
   "source": [
    "y_test_NN.iloc[0].values"
   ]
  },
  {
   "cell_type": "code",
   "execution_count": 36,
   "id": "72d28c7b",
   "metadata": {
    "execution": {
     "iopub.execute_input": "2024-05-04T08:08:04.775370Z",
     "iopub.status.busy": "2024-05-04T08:08:04.774513Z",
     "iopub.status.idle": "2024-05-04T08:08:05.102249Z",
     "shell.execute_reply": "2024-05-04T08:08:05.101356Z"
    },
    "papermill": {
     "duration": 0.38723,
     "end_time": "2024-05-04T08:08:05.104709",
     "exception": false,
     "start_time": "2024-05-04T08:08:04.717479",
     "status": "completed"
    },
    "tags": []
   },
   "outputs": [
    {
     "name": "stdout",
     "output_type": "stream",
     "text": [
      "labels: ['daisy', 'dandelion', 'rose', 'sunflower', 'tulip']\n",
      "1/1 [==============================] - 0s 25ms/step\n",
      "Softmax Outputs: [[0.05701731 0.08589429 0.5134661  0.03595416 0.30766815]]\n",
      "1.0\n",
      "Predicted_Label: rose\n"
     ]
    },
    {
     "data": {
      "image/png": "[encoded data removed]",
      "text/plain": [
       "<Figure size 640x480 with 1 Axes>"
      ]
     },
     "metadata": {},
     "output_type": "display_data"
    }
   ],
   "source": [
    "# Predicting and vizualizing the test image\n",
    "\n",
    "import matplotlib.pyplot as plt\n",
    "%matplotlib inline\n",
    "\n",
    "n = 300\n",
    "labels = y_test_NN.iloc[n].index.tolist()\n",
    "print('labels:', labels)\n",
    "plt.title(y_test[n])\n",
    "plt.imshow(X_test[n])\n",
    "y_pred = model.predict(X_test_ML[n].reshape(1, img_shape))\n",
    "print(\"Softmax Outputs:\", y_pred)\n",
    "print(y_pred.sum())\n",
    "\n",
    "\n",
    "# Convert the predicted probabilities to labels\n",
    "\n",
    "print('Predicted_Label:',labels[np.argmax(y_pred)])"
   ]
  }
 ],
 "metadata": {
  "kaggle": {
   "accelerator": "nvidiaTeslaT4",
   "dataSources": [
    {
     "datasetId": 3200015,
     "sourceId": 5555772,
     "sourceType": "datasetVersion"
    }
   ],
   "dockerImageVersionId": 30461,
   "isGpuEnabled": true,
   "isInternetEnabled": true,
   "language": "python",
   "sourceType": "notebook"
  },
  "kernelspec": {
   "display_name": "Python 3",
   "language": "python",
   "name": "python3"
  },
  "language_info": {
   "codemirror_mode": {
    "name": "ipython",
    "version": 3
   },
   "file_extension": ".py",
   "mimetype": "text/x-python",
   "name": "python",
   "nbconvert_exporter": "python",
   "pygments_lexer": "ipython3",
   "version": "3.9.6"
  },
  "papermill": {
   "default_parameters": {},
   "duration": 127.063625,
   "end_time": "2024-05-04T08:08:08.267576",
   "environment_variables": {},
   "exception": null,
   "input_path": "__notebook__.ipynb",
   "output_path": "__notebook__.ipynb",
   "parameters": {},
   "start_time": "2024-05-04T08:06:01.203951",
   "version": "2.4.0"
  }
 },
 "nbformat": 4,
 "nbformat_minor": 5
}
